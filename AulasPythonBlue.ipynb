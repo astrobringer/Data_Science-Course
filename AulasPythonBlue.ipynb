{
  "nbformat": 4,
  "nbformat_minor": 0,
  "metadata": {
    "colab": {
      "name": "AulasPython.ipynb",
      "provenance": [],
      "authorship_tag": "ABX9TyM7fMCRfIYbr2unl9RoVhG9",
      "include_colab_link": true
    },
    "kernelspec": {
      "name": "python3",
      "display_name": "Python 3"
    },
    "language_info": {
      "name": "python"
    }
  },
  "cells": [
    {
      "cell_type": "markdown",
      "metadata": {
        "id": "view-in-github",
        "colab_type": "text"
      },
      "source": [
        "<a href=\"https://colab.research.google.com/github/astrobringer/Data_Science-Course/blob/main/AulasPythonBlue.ipynb\" target=\"_parent\"><img src=\"https://colab.research.google.com/assets/colab-badge.svg\" alt=\"Open In Colab\"/></a>"
      ]
    },
    {
      "cell_type": "code",
      "execution_count": null,
      "metadata": {
        "colab": {
          "base_uri": "https://localhost:8080/"
        },
        "id": "cJf14wa-1VR-",
        "outputId": "75efce9d-3253-409c-d82b-f4920a44dca4"
      },
      "outputs": [
        {
          "output_type": "stream",
          "name": "stdout",
          "text": [
            "500\n",
            "324\n",
            "824\n"
          ]
        }
      ],
      "source": [
        "num1=int(input())\n",
        "num2=int(input())\n",
        "print(num1+num2)"
      ]
    },
    {
      "cell_type": "code",
      "source": [
        "password=\"12345678\"\n",
        "securePassword=len(password)>=8\n",
        "print(securePassword)"
      ],
      "metadata": {
        "colab": {
          "base_uri": "https://localhost:8080/"
        },
        "id": "z5hytFb2X46c",
        "outputId": "3606c2ed-30e0-4854-c8fd-bff6a7c63e76"
      },
      "execution_count": null,
      "outputs": [
        {
          "output_type": "stream",
          "name": "stdout",
          "text": [
            "True\n"
          ]
        }
      ]
    },
    {
      "cell_type": "code",
      "source": [
        "x=input()\n",
        "\n",
        "if \"medieval\" in x.lower():\n",
        "    print(\"espada\")\n",
        "\n",
        "elif \"futurista\" in x.lower():\n",
        "    print(\"sabre de luz\")\n",
        "\n",
        "else:\n",
        "    print(\"tente novamente\")\n"
      ],
      "metadata": {
        "colab": {
          "base_uri": "https://localhost:8080/"
        },
        "id": "eN-aA9FH2ER8",
        "outputId": "abf5c100-b58e-4497-e16e-23166463974d"
      },
      "execution_count": null,
      "outputs": [
        {
          "output_type": "stream",
          "name": "stdout",
          "text": [
            "eu sou o rei do medieval\n",
            "espada\n"
          ]
        }
      ]
    },
    {
      "cell_type": "code",
      "source": [
        "def nomes():\n",
        "  nome = input()\n",
        "  print(nome)\n",
        "\n",
        "nomes()"
      ],
      "metadata": {
        "colab": {
          "base_uri": "https://localhost:8080/"
        },
        "id": "C-o0UobjVLbC",
        "outputId": "c2d089e2-277d-40b7-9e85-0873fa3795b4"
      },
      "execution_count": null,
      "outputs": [
        {
          "output_type": "stream",
          "name": "stdout",
          "text": [
            "joao\n",
            "joao\n"
          ]
        }
      ]
    },
    {
      "cell_type": "code",
      "source": [
        "def maiorValor(*numeros):\n",
        "  return max(numeros)\n",
        "valor=maiorValor(12, 3, 4, 34, 6, 90)\n",
        "print(valor) "
      ],
      "metadata": {
        "colab": {
          "base_uri": "https://localhost:8080/"
        },
        "id": "bLfzYTAwsN1M",
        "outputId": "a4e79c45-0bf9-4af1-cc0f-2b381494eeac"
      },
      "execution_count": null,
      "outputs": [
        {
          "output_type": "stream",
          "name": "stdout",
          "text": [
            "90\n"
          ]
        }
      ]
    },
    {
      "cell_type": "code",
      "source": [
        "def custo_hotel(noites):\n",
        "  return noites*140\n",
        "\n",
        "def formatarMoeda(valor):\n",
        "  return print(f\"R$ {valor:,.2f}\")\n",
        "\n",
        "formatarMoeda(custo_hotel(10))\n"
      ],
      "metadata": {
        "colab": {
          "base_uri": "https://localhost:8080/"
        },
        "id": "LgzjcPeS5OIJ",
        "outputId": "afa4657a-da56-49b5-a895-87dd1aef656f"
      },
      "execution_count": null,
      "outputs": [
        {
          "output_type": "stream",
          "name": "stdout",
          "text": [
            "R$ 1,400.00\n"
          ]
        }
      ]
    },
    {
      "cell_type": "code",
      "source": [
        "def custo_aviao(cidade):\n",
        "  custo = 0\n",
        "  if cidade == \"São Paulo\":\n",
        "    custo = 312\n",
        "  elif cidade == \"Porto Alegre\":\n",
        "    custo = 447\n",
        "  elif cidade == \"Recife\":\n",
        "    custo = 831\n",
        "  elif cidade == \"Manaus\":\n",
        "    custo = 986\n",
        "  return print(f\"O valor da passagem para {cidade} é R$ {custo:,.2f}\")\n",
        "\n",
        "cidade = input(\"Para qual cidade desejas ir? \").strip().capitalize()\n",
        "\n",
        "custo_aviao(cidade)"
      ],
      "metadata": {
        "colab": {
          "base_uri": "https://localhost:8080/"
        },
        "id": "3qv34FJBStOt",
        "outputId": "5ceedd7a-b026-4503-ab32-0dbcc0472206"
      },
      "execution_count": null,
      "outputs": [
        {
          "output_type": "stream",
          "name": "stdout",
          "text": [
            "Para qual cidade desejas ir? manaus\n",
            "O valor da passagem para Manaus é R$ 986.00\n"
          ]
        }
      ]
    },
    {
      "cell_type": "code",
      "source": [
        "def custo_carro(dias):\n",
        "  custo = dias * 40\n",
        "\n",
        "  if dias >= 7:\n",
        "    custo -= 50\n",
        "\n",
        "  elif dias >= 3:\n",
        "    custo -= 20\n",
        "    \n",
        "  return print(f\"Custo de aluguel do carro é R$ {custo:,.2f}\")\n",
        "\n",
        "dias = int(input(\"Quantos dias desejas alugar o carro? \"))\n",
        "\n",
        "custo_carro(dias)\n"
      ],
      "metadata": {
        "colab": {
          "base_uri": "https://localhost:8080/"
        },
        "id": "0qYl2nwPdC2z",
        "outputId": "5d4109b0-7c73-4ed8-8bca-89a1501a7a6b"
      },
      "execution_count": null,
      "outputs": [
        {
          "output_type": "stream",
          "name": "stdout",
          "text": [
            "Quantos dias desejas alugar o carro? 30\n",
            "Custo de aluguel do carro é R$ 1,150.00\n"
          ]
        }
      ]
    },
    {
      "cell_type": "code",
      "source": [
        "string = \"catdogfrog\"\n",
        "cat = string[0:3]\n",
        "dog = string[3:6]\n",
        "frog = string[6:]\n",
        "\n",
        "print(cat)\n",
        "print(dog)\n",
        "print(frog)"
      ],
      "metadata": {
        "colab": {
          "base_uri": "https://localhost:8080/"
        },
        "id": "FURkN3S1N3Zl",
        "outputId": "5e453fe0-1f44-4171-cd17-dee1c88e466c"
      },
      "execution_count": null,
      "outputs": [
        {
          "output_type": "stream",
          "name": "stdout",
          "text": [
            "cat\n",
            "dog\n",
            "frog\n"
          ]
        }
      ]
    },
    {
      "cell_type": "code",
      "source": [
        "def dobrarValores():\n",
        "\n",
        "  qtde = int(input(\"Quantos números? \"))\n",
        "  numeros = []\n",
        "\n",
        "  for i in range(qtde):\n",
        "    numeroDigitado = int(input(f\"Digite o {i +1}° número \"))\n",
        "    numeros.append(numeroDigitado)\n",
        "\n",
        "  for numero in numeros:\n",
        "    print(numero * 2)\n",
        "\n",
        "  if qtde > 0:\n",
        "    dobrarValores()\n",
        "\n",
        "dobrarValores()\n",
        "\n"
      ],
      "metadata": {
        "colab": {
          "base_uri": "https://localhost:8080/"
        },
        "id": "HPNQWNRter7q",
        "outputId": "04cb770f-f7eb-4447-e928-e729ca6ff1e6"
      },
      "execution_count": null,
      "outputs": [
        {
          "name": "stdout",
          "output_type": "stream",
          "text": [
            "Quantos números? 3\n",
            "Digite o 1° número 1\n",
            "Digite o 2° número 2\n",
            "Digite o 3° número 3\n",
            "2\n",
            "4\n",
            "6\n",
            "Quantos números? 0\n"
          ]
        }
      ]
    }
  ]
}