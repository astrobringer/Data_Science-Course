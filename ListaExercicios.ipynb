{
  "nbformat": 4,
  "nbformat_minor": 0,
  "metadata": {
    "colab": {
      "name": "ListaExercicios.ipynb",
      "provenance": [],
      "toc_visible": true,
      "authorship_tag": "ABX9TyO2Q5uveryDJQrCD/2HbvCI",
      "include_colab_link": true
    },
    "kernelspec": {
      "name": "python3",
      "display_name": "Python 3"
    },
    "language_info": {
      "name": "python"
    }
  },
  "cells": [
    {
      "cell_type": "markdown",
      "metadata": {
        "id": "view-in-github",
        "colab_type": "text"
      },
      "source": [
        "<a href=\"https://colab.research.google.com/github/astrobringer/Data_Science-Course/blob/main/ListaExercicios.ipynb\" target=\"_parent\"><img src=\"https://colab.research.google.com/assets/colab-badge.svg\" alt=\"Open In Colab\"/></a>"
      ]
    },
    {
      "cell_type": "code",
      "execution_count": null,
      "metadata": {
        "colab": {
          "base_uri": "https://localhost:8080/"
        },
        "id": "0HpwQdZvxOgR",
        "outputId": "cf4d2b77-4755-440d-f2aa-1da00a96f66c"
      },
      "outputs": [
        {
          "output_type": "stream",
          "name": "stdout",
          "text": [
            "4\n"
          ]
        }
      ],
      "source": [
        "lista = [1, 2, 3, 4]\n",
        "\n",
        "ultimoElemento = lista[len(lista) - 1]\n",
        "print(ultimoElemento)\n"
      ]
    },
    {
      "cell_type": "code",
      "source": [
        "lista = [1, 2, 3, 4]\n",
        "\n",
        "ultimoElemento = lista[-1]\n",
        "print(ultimoElemento)"
      ],
      "metadata": {
        "colab": {
          "base_uri": "https://localhost:8080/"
        },
        "id": "jRsXmc8O13Sa",
        "outputId": "5d7bb2dd-ac0d-4680-e6e2-cebbf0f04250"
      },
      "execution_count": null,
      "outputs": [
        {
          "output_type": "stream",
          "name": "stdout",
          "text": [
            "4\n"
          ]
        }
      ]
    },
    {
      "cell_type": "code",
      "source": [
        "lista = [1, 2, 3, 4,5 , 6, 7, 8, 9, 0]\n",
        "\n",
        "ultimosIntervalos = lista[-5:]\n",
        "print(ultimosIntervalos)"
      ],
      "metadata": {
        "colab": {
          "base_uri": "https://localhost:8080/"
        },
        "id": "raDgLgyBAeOR",
        "outputId": "59f2a10d-c2ba-4122-9685-038b012a7411"
      },
      "execution_count": null,
      "outputs": [
        {
          "output_type": "stream",
          "name": "stdout",
          "text": [
            "[6, 7, 8, 9, 0]\n"
          ]
        }
      ]
    },
    {
      "cell_type": "code",
      "source": [
        "lista = [0] * 10\n",
        "\n",
        "print(lista)"
      ],
      "metadata": {
        "colab": {
          "base_uri": "https://localhost:8080/"
        },
        "id": "bCx97iko7ajJ",
        "outputId": "1ec22fe1-0d22-4362-8221-570709d60b5d"
      },
      "execution_count": null,
      "outputs": [
        {
          "output_type": "stream",
          "name": "stdout",
          "text": [
            "[0, 0, 0, 0, 0, 0, 0, 0, 0, 0]\n"
          ]
        }
      ]
    },
    {
      "cell_type": "code",
      "source": [
        "lista = [15, 1, 2, 3, 4, 5, 6, 7]\n",
        "\n",
        "for num in lista:\n",
        "  if num != 3:\n",
        "    print(num)"
      ],
      "metadata": {
        "colab": {
          "base_uri": "https://localhost:8080/"
        },
        "id": "Ns3RY3qT9HZi",
        "outputId": "311a32cd-6db3-4e44-b69e-3dd8b898966c"
      },
      "execution_count": null,
      "outputs": [
        {
          "output_type": "stream",
          "name": "stdout",
          "text": [
            "15\n",
            "1\n",
            "2\n",
            "4\n",
            "5\n",
            "6\n",
            "7\n"
          ]
        }
      ]
    },
    {
      "cell_type": "code",
      "source": [
        "lista = [0, 0, 0,0,9,8,9,8,7,6,6,5,4,1,1,3,3,3,4,2]\n",
        "\n",
        "for num in lista:\n",
        "  rep = lista.count(num) > 1\n",
        "  print(num, rep)"
      ],
      "metadata": {
        "colab": {
          "base_uri": "https://localhost:8080/"
        },
        "id": "BlHaWI3lHNTO",
        "outputId": "add4f63f-b7b5-46eb-8a84-1938c99f7c80"
      },
      "execution_count": null,
      "outputs": [
        {
          "output_type": "stream",
          "name": "stdout",
          "text": [
            "0 True\n",
            "0 True\n",
            "0 True\n",
            "0 True\n",
            "9 True\n",
            "8 True\n",
            "9 True\n",
            "8 True\n",
            "7 False\n",
            "6 True\n",
            "6 True\n",
            "5 False\n",
            "4 True\n",
            "1 True\n",
            "1 True\n",
            "3 True\n",
            "3 True\n",
            "3 True\n",
            "4 True\n",
            "2 False\n"
          ]
        }
      ]
    },
    {
      "cell_type": "code",
      "source": [
        "print(\"Opção 1\")\n",
        "print(\"Opção 2\")\n",
        "print(\"Opção 3\")\n",
        "print(\"Opção 4\\n\")\n",
        "escolha = input()\n",
        "print(escolha)\n",
        "\n"
      ],
      "metadata": {
        "colab": {
          "base_uri": "https://localhost:8080/"
        },
        "id": "aLK1NFlwIaZf",
        "outputId": "4db00d9d-0be2-41ba-f949-6f9d4f71e960"
      },
      "execution_count": null,
      "outputs": [
        {
          "output_type": "stream",
          "name": "stdout",
          "text": [
            "Opção 1\n",
            "Opção 2\n",
            "Opção 3\n",
            "Opção 4\n",
            "Opção 2\n",
            "Opção 2\n"
          ]
        }
      ]
    },
    {
      "cell_type": "code",
      "source": [
        "# Qual o valor do troco?\n",
        "#Defina uma variável para o valor de uma compra que custou R$100,98;\n",
        "#Defina uma variável para o valor que o cliente pagou R$150,00;\n",
        "#Defina uma variável que calcula o valor do troco e exiba-o no console com o valor final arredondado.\n",
        "\n",
        "def troco():\n",
        "  vc = 100.98\n",
        "  vp = 150\n",
        "  vt = round(vp - vc) \n",
        "\n",
        "  return vt\n",
        "\n",
        "troco()"
      ],
      "metadata": {
        "colab": {
          "base_uri": "https://localhost:8080/"
        },
        "id": "blSVYAv-RYdz",
        "outputId": "e1356b4e-e2e8-4b75-ac74-20621b96a4ad"
      },
      "execution_count": null,
      "outputs": [
        {
          "output_type": "execute_result",
          "data": {
            "text/plain": [
              "49"
            ]
          },
          "metadata": {},
          "execution_count": 23
        }
      ]
    },
    {
      "cell_type": "code",
      "source": [
        "num = int(input())\n",
        "if num % 2 == 0:\n",
        "  print(\"O número é par\")\n",
        "else:\n",
        "  print(\"O número é ímpar\")"
      ],
      "metadata": {
        "colab": {
          "base_uri": "https://localhost:8080/"
        },
        "id": "kRc62M3kSNG0",
        "outputId": "b96143d3-a0f2-47a6-fc51-a923fed655db"
      },
      "execution_count": null,
      "outputs": [
        {
          "output_type": "stream",
          "name": "stdout",
          "text": [
            "5\n",
            "O número é ímpar\n"
          ]
        }
      ]
    },
    {
      "cell_type": "code",
      "source": [
        "#Faça um script que peça um valor e mostre na tela se o valor é positivo ou negativo\n",
        "#e implemente a funcionalidade de não aceitar o número 0.\n",
        "\n",
        "num = int(input())\n",
        "if num > 0:\n",
        "  print(\"O número é Positivo\")\n",
        "  \n",
        "elif num < 0:\n",
        "  print(\"O número é Negativo\")\n",
        "  \n",
        "else:\n",
        "  print(\"Opção inválida\")"
      ],
      "metadata": {
        "colab": {
          "base_uri": "https://localhost:8080/"
        },
        "id": "3jR32WBoTZgm",
        "outputId": "ee9a0092-4482-413c-8e49-ec1336ecf751"
      },
      "execution_count": null,
      "outputs": [
        {
          "output_type": "stream",
          "name": "stdout",
          "text": [
            "0\n",
            "Opção inválida\n"
          ]
        }
      ]
    },
    {
      "cell_type": "code",
      "source": [
        "#Faça um programa que peça dois números, imprima o maior deles\n",
        "#ou imprima \"Números iguais\" se os números forem iguais.\n",
        "\n",
        "num1 = input(\"Número 1: \")\n",
        "num2 = input(\"Número 2: \")\n",
        "\n",
        "if num1 > num2:\n",
        "  print(num1)\n",
        "\n",
        "elif num2 > num1:\n",
        "  print(num2)\n",
        "\n",
        "else:\n",
        "  print(\"Números iguais\")"
      ],
      "metadata": {
        "id": "eaGOxHdAUT0I",
        "colab": {
          "base_uri": "https://localhost:8080/"
        },
        "outputId": "de8c7dff-52cc-4125-c33e-f8eac229cbdb"
      },
      "execution_count": null,
      "outputs": [
        {
          "output_type": "stream",
          "name": "stdout",
          "text": [
            "Número 1: 4\n",
            "Número 2: 4\n",
            "Números iguais\n"
          ]
        }
      ]
    },
    {
      "cell_type": "code",
      "source": [
        "#Crie um programa em Portugol que peça a nota do aluno, que deve ser um real entre 0.00 e 10.0\n",
        "#Se a nota for de 6.0 até 7.0, deve exibir a nota D.\n",
        "#Se a nota for entre 7.0 e 8.0, deve exibir a nota C.\n",
        "#Se a nota for entre 8.0 e 9.0, deve exibir a nota B.\n",
        "#Por fim, se for entre 9.0 e 10.0, deve exibir um belo de um A.\n",
        "\n",
        "nota = float(input(\"Nota do Aluno \"))\n",
        "if nota >= 9:\n",
        "  print(\"Nota A\")\n",
        "\n",
        "elif nota >= 8:\n",
        "  print(\"Nota B\")\n",
        "\n",
        "elif nota >= 7:\n",
        "  print(\"Nota C\")\n",
        "\n",
        "elif nota >= 6:\n",
        "  print(\"Nota D\")\n",
        "\n",
        "else:\n",
        "  print(\"Nota F\")\n",
        "\n"
      ],
      "metadata": {
        "colab": {
          "base_uri": "https://localhost:8080/"
        },
        "id": "fuWM7XLJqa1O",
        "outputId": "1fa0b2bb-c280-450f-de65-8f13a084cff7"
      },
      "execution_count": null,
      "outputs": [
        {
          "output_type": "stream",
          "name": "stdout",
          "text": [
            "Nota do Aluno 6.5\n",
            "Nota D\n"
          ]
        }
      ]
    },
    {
      "cell_type": "code",
      "source": [
        "#salários entre R$ 280,00 e R$ 700,00 : aumento de 15%\n",
        "#salários entre R$ 700,00 e R$ 1500,00 : aumento de 10%\n",
        "#salários de R$ 1500,00 em diante : aumento de 5%\n",
        "\n",
        "#o salário antes do reajuste;\n",
        "#o percentual de aumento aplicado;\n",
        "#o valor do aumento;\n",
        "#o novo salário, após o aumento.\n",
        "\n",
        "wage = float(input())\n",
        "\n",
        "if wage >= 280 and wage < 700:\n",
        "  newage = 1.15 * wage\n",
        "  print(f\"{wage:.2f}\")\n",
        "  print(\"15%\")\n",
        "  print(wage * 0.15)\n",
        "  print(f\"{newage:.2f}\")\n",
        "\n",
        "elif wage >= 700 and wage < 1500:\n",
        "  newage = 1.10 * wage\n",
        "  print(f\"{wage:.2f}\")\n",
        "  print(\"10%\")\n",
        "  print(wage * 0.10)\n",
        "  print(f\"{newage:.2f}\")\n",
        "\n",
        "elif wage >= 1500:\n",
        "  newage = 1.05 * wage\n",
        "  print(f\"{wage:.2f}\")\n",
        "  print(\"5%\")\n",
        "  print(wage * 0.05)\n",
        "  print(f\"{newage:.2f}\")\n",
        "  "
      ],
      "metadata": {
        "colab": {
          "base_uri": "https://localhost:8080/"
        },
        "id": "01upFKtKu_5u",
        "outputId": "9a6569cc-d30c-408a-a899-8b7a69896be5"
      },
      "execution_count": null,
      "outputs": [
        {
          "output_type": "stream",
          "name": "stdout",
          "text": [
            "1500\n",
            "1500.00\n",
            "5%\n",
            "75.0\n",
            "1575.00\n"
          ]
        }
      ]
    },
    {
      "cell_type": "code",
      "source": [
        "#Crie um programa onde o usuário possa digitar vários valores numéricos e cadastre-os em uma lista.\n",
        "#Caso o número já esteja lá dentro, ele não será adicionado.\n",
        "#No final, serão exibidos todos os valores únicos digitados, em ordem crescente.\n",
        "\n",
        "lista = []\n",
        "num = \"\"\n",
        "i = 0\n",
        "while num != \"stop\":\n",
        "  num = input()\n",
        "  lista.append(num)\n",
        "  i = i + 1\n",
        "\n",
        "  if lista.count(num) > 1:\n",
        "    lista.remove(num)\n",
        "    i = i - 1\n",
        "\n",
        "del(lista[i-1])\n",
        "lista = [int(num) for num in lista]\n",
        "lista.sort()\n",
        "print(\"\\n\"lista)"
      ],
      "metadata": {
        "colab": {
          "base_uri": "https://localhost:8080/"
        },
        "id": "oN0_fLaWB4Ke",
        "outputId": "0d68da34-179e-4880-9143-ed4fb2364569"
      },
      "execution_count": null,
      "outputs": [
        {
          "output_type": "stream",
          "name": "stdout",
          "text": [
            "1\n",
            "2\n",
            "5\n",
            "4\n",
            "8\n",
            "6\n",
            "6\n",
            "stop\n",
            "[1, 2, 4, 5, 6, 8]\n"
          ]
        }
      ]
    },
    {
      "cell_type": "code",
      "source": [
        "#Utilizando laço, imprima a tabuada do 8 na tela.\n",
        "\n",
        "i = 0\n",
        "for i in range(11):\n",
        "  print(f\"8 * {i} = {8 * i}\")\n"
      ],
      "metadata": {
        "colab": {
          "base_uri": "https://localhost:8080/"
        },
        "id": "M47n2ArxglrM",
        "outputId": "5e41fc30-37f5-4e9d-b0de-bd6cc11f5bcc"
      },
      "execution_count": null,
      "outputs": [
        {
          "output_type": "stream",
          "name": "stdout",
          "text": [
            "8 * 0 = 0\n",
            "8 * 1 = 8\n",
            "8 * 2 = 16\n",
            "8 * 3 = 24\n",
            "8 * 4 = 32\n",
            "8 * 5 = 40\n",
            "8 * 6 = 48\n",
            "8 * 7 = 56\n",
            "8 * 8 = 64\n",
            "8 * 9 = 72\n",
            "8 * 10 = 80\n"
          ]
        }
      ]
    },
    {
      "cell_type": "code",
      "source": [
        "#Agora, imprima todas as tabuadas do número 1 ao 10\n",
        "\n",
        "i = 1\n",
        "j = 1\n",
        "for i in range(11):\n",
        "  print(\"\\t\")\n",
        "\n",
        "  for j in range(11):\n",
        "    print(f\"{i} * {j} = {j * i}\")"
      ],
      "metadata": {
        "colab": {
          "base_uri": "https://localhost:8080/"
        },
        "id": "ds6QtJPXxuyV",
        "outputId": "34324821-b662-4f6d-9aa2-49e44a99e458"
      },
      "execution_count": null,
      "outputs": [
        {
          "output_type": "stream",
          "name": "stdout",
          "text": [
            "\t\n",
            "0 * 0 = 0\n",
            "0 * 1 = 0\n",
            "0 * 2 = 0\n",
            "0 * 3 = 0\n",
            "0 * 4 = 0\n",
            "0 * 5 = 0\n",
            "0 * 6 = 0\n",
            "0 * 7 = 0\n",
            "0 * 8 = 0\n",
            "0 * 9 = 0\n",
            "0 * 10 = 0\n",
            "\t\n",
            "1 * 0 = 0\n",
            "1 * 1 = 1\n",
            "1 * 2 = 2\n",
            "1 * 3 = 3\n",
            "1 * 4 = 4\n",
            "1 * 5 = 5\n",
            "1 * 6 = 6\n",
            "1 * 7 = 7\n",
            "1 * 8 = 8\n",
            "1 * 9 = 9\n",
            "1 * 10 = 10\n",
            "\t\n",
            "2 * 0 = 0\n",
            "2 * 1 = 2\n",
            "2 * 2 = 4\n",
            "2 * 3 = 6\n",
            "2 * 4 = 8\n",
            "2 * 5 = 10\n",
            "2 * 6 = 12\n",
            "2 * 7 = 14\n",
            "2 * 8 = 16\n",
            "2 * 9 = 18\n",
            "2 * 10 = 20\n",
            "\t\n",
            "3 * 0 = 0\n",
            "3 * 1 = 3\n",
            "3 * 2 = 6\n",
            "3 * 3 = 9\n",
            "3 * 4 = 12\n",
            "3 * 5 = 15\n",
            "3 * 6 = 18\n",
            "3 * 7 = 21\n",
            "3 * 8 = 24\n",
            "3 * 9 = 27\n",
            "3 * 10 = 30\n",
            "\t\n",
            "4 * 0 = 0\n",
            "4 * 1 = 4\n",
            "4 * 2 = 8\n",
            "4 * 3 = 12\n",
            "4 * 4 = 16\n",
            "4 * 5 = 20\n",
            "4 * 6 = 24\n",
            "4 * 7 = 28\n",
            "4 * 8 = 32\n",
            "4 * 9 = 36\n",
            "4 * 10 = 40\n",
            "\t\n",
            "5 * 0 = 0\n",
            "5 * 1 = 5\n",
            "5 * 2 = 10\n",
            "5 * 3 = 15\n",
            "5 * 4 = 20\n",
            "5 * 5 = 25\n",
            "5 * 6 = 30\n",
            "5 * 7 = 35\n",
            "5 * 8 = 40\n",
            "5 * 9 = 45\n",
            "5 * 10 = 50\n",
            "\t\n",
            "6 * 0 = 0\n",
            "6 * 1 = 6\n",
            "6 * 2 = 12\n",
            "6 * 3 = 18\n",
            "6 * 4 = 24\n",
            "6 * 5 = 30\n",
            "6 * 6 = 36\n",
            "6 * 7 = 42\n",
            "6 * 8 = 48\n",
            "6 * 9 = 54\n",
            "6 * 10 = 60\n",
            "\t\n",
            "7 * 0 = 0\n",
            "7 * 1 = 7\n",
            "7 * 2 = 14\n",
            "7 * 3 = 21\n",
            "7 * 4 = 28\n",
            "7 * 5 = 35\n",
            "7 * 6 = 42\n",
            "7 * 7 = 49\n",
            "7 * 8 = 56\n",
            "7 * 9 = 63\n",
            "7 * 10 = 70\n",
            "\t\n",
            "8 * 0 = 0\n",
            "8 * 1 = 8\n",
            "8 * 2 = 16\n",
            "8 * 3 = 24\n",
            "8 * 4 = 32\n",
            "8 * 5 = 40\n",
            "8 * 6 = 48\n",
            "8 * 7 = 56\n",
            "8 * 8 = 64\n",
            "8 * 9 = 72\n",
            "8 * 10 = 80\n",
            "\t\n",
            "9 * 0 = 0\n",
            "9 * 1 = 9\n",
            "9 * 2 = 18\n",
            "9 * 3 = 27\n",
            "9 * 4 = 36\n",
            "9 * 5 = 45\n",
            "9 * 6 = 54\n",
            "9 * 7 = 63\n",
            "9 * 8 = 72\n",
            "9 * 9 = 81\n",
            "9 * 10 = 90\n",
            "\t\n",
            "10 * 0 = 0\n",
            "10 * 1 = 10\n",
            "10 * 2 = 20\n",
            "10 * 3 = 30\n",
            "10 * 4 = 40\n",
            "10 * 5 = 50\n",
            "10 * 6 = 60\n",
            "10 * 7 = 70\n",
            "10 * 8 = 80\n",
            "10 * 9 = 90\n",
            "10 * 10 = 100\n"
          ]
        }
      ]
    },
    {
      "cell_type": "code",
      "source": [
        "#Faça um programa, que receba as dimensões de um terreno retangular (largura e comprimento)\n",
        "#e mostre a área do terreno:\n",
        "\n",
        "larg = float(input(\"Largura do Terreno(m): \"))\n",
        "comp = float(input(\"Comprimento do Terreno(m): \"))\n",
        "\n",
        "print(f\"A área do Terreno é: {(larg * comp):.0f} m²\")"
      ],
      "metadata": {
        "colab": {
          "base_uri": "https://localhost:8080/"
        },
        "id": "n2_HN82uz06N",
        "outputId": "db3f6c3a-6627-4965-a55c-816ed14f5837"
      },
      "execution_count": null,
      "outputs": [
        {
          "output_type": "stream",
          "name": "stdout",
          "text": [
            "Largura do Terreno(m): 22\n",
            "Comprimento do Terreno(m): 30\n",
            "A área do Terreno é: 660 m²\n"
          ]
        }
      ]
    },
    {
      "cell_type": "code",
      "source": [
        "#Faça um programa que vai receber como parâmetro o ano de nascimento de uma pessoa,\n",
        "#retornando um valor literal \n",
        "#indicando se uma pessoa tem voto NEGADO, OPCIONAL ou OBRIGATÓRIO nas eleições:\n",
        "\n",
        "import datetime\n",
        "\n",
        "def vote(ano):\n",
        "  date = datetime.date.today()\n",
        "  yearNow = date.strftime(\"%Y\")\n",
        "  age = int(yearNow) - ano\n",
        "\n",
        "  if age >= 18:\n",
        "    print(\"OBRIGATÓRIO\")\n",
        "  elif age >= 16:\n",
        "    print(\"OPCIONAL\")\n",
        "  else:\n",
        "    print(\"NEGADO\")\n",
        "\n",
        "ano = int(input(\"Ano de nascimento:\"))\n",
        "vote(ano)\n",
        "  "
      ],
      "metadata": {
        "colab": {
          "base_uri": "https://localhost:8080/"
        },
        "id": "6huJm_Bn2WJ4",
        "outputId": "26766d51-bd7b-4e7f-e709-582b703dfe6b"
      },
      "execution_count": null,
      "outputs": [
        {
          "output_type": "stream",
          "name": "stdout",
          "text": [
            "Ano de nascimento: 2003\n",
            "OBRIGATÓRIO\n"
          ]
        }
      ]
    },
    {
      "cell_type": "code",
      "source": [
        "#Jogo da adivinhação: Escreva um programa que faça o computador “pensar” em um número inteiro entre 0 e 10\n",
        "#e peça para o usuário tentar descobrir qual foi o número escolhido pelo computador.\n",
        "#O programa deverá escrever na tela se o usuário venceu ou perdeu.\n",
        "\n",
        "from random import randrange\n",
        "x = randrange(0, 10)\n",
        "u = int(input(\"Advinhe o número que a máquina pensou: \"))\n",
        "if u == x:\n",
        "  print(\"O usuário Venceu\")\n",
        "else:\n",
        "  print(\"O usuário Perdeu\")"
      ],
      "metadata": {
        "colab": {
          "base_uri": "https://localhost:8080/"
        },
        "id": "qxgWyyHDoUoy",
        "outputId": "2a726ef4-ca2b-474d-abcb-324f4798c5f4"
      },
      "execution_count": null,
      "outputs": [
        {
          "output_type": "stream",
          "name": "stdout",
          "text": [
            "Advinhe o número que a máquina pensou: 5\n",
            "O usuário Perdeu\n"
          ]
        }
      ]
    },
    {
      "cell_type": "code",
      "source": [
        "valor = input(\"Valor do Saque: \")\n",
        "numCasasDec = len(valor)\n",
        "\n",
        "if numCasasDec == 3:\n",
        "  n100 = valor[0]\n",
        "\n",
        "  if valor[1] >= \"5\":\n",
        "    n50 = 1\n",
        "    n10 = int(valor[1]) - 5\n",
        "  else:\n",
        "    n50 = 0\n",
        "    n10 = int(valor[1])\n",
        "\n",
        "  if valor[2] >= \"5\":\n",
        "    n5 = 1\n",
        "    n1 = int(valor[2]) - 5\n",
        "  else:\n",
        "    n5 = 0\n",
        "    n1 = int(valor[2])\n",
        "\n",
        "  print(f\"\\nCédulas de R$100: {n100}.\\nCédulas de R$50: {n50}.\\nCédulas de R$10: {n10}.\\nCédulas de R$5: {n5}.\\nCédulas de R$1: {n1}\")\n",
        "  \n",
        "elif numCasasDec == 2:\n",
        "\n",
        "  if valor[0] >= \"5\":\n",
        "    n50 = 1\n",
        "    n10 = int(valor[0]) - 5\n",
        "  else:\n",
        "    n50 = 0\n",
        "    n10 = int(valor[0])\n",
        "\n",
        "  if valor[1] >= \"5\":\n",
        "    n5 = 1\n",
        "    n1 = int(valor[1]) - 5\n",
        "  else:\n",
        "    n5 = 0\n",
        "    n1 = int(valor[1])\n",
        "  print(f\"\\nCédulas de R$50: {n50}.\\nCédulas de R$10: {n10}.\\nCédulas de R$5: {n5}.\\nCédulas de R$1: {n1}\")\n"
      ],
      "metadata": {
        "colab": {
          "base_uri": "https://localhost:8080/"
        },
        "id": "lJfasbFxof5d",
        "outputId": "d4bd922f-2699-46c9-e028-1668bb1c03fe"
      },
      "execution_count": null,
      "outputs": [
        {
          "output_type": "stream",
          "name": "stdout",
          "text": [
            "Valor do Saque: 96\n",
            "\n",
            "Cédulas de R$50: 1.\n",
            "Cédulas de R$10: 4.\n",
            "Cédulas de R$5: 1.\n",
            "Cédulas de R$1: 1\n"
          ]
        }
      ]
    },
    {
      "cell_type": "code",
      "source": [
        "#Permitir que eu decida quantas rodadas iremos fazer;\n",
        "#Ler a minha escolha (Pedra, papel ou tesoura);\n",
        "#Decidir de forma aleatória a decisão do computador;\n",
        "#Mostrar quantas rodadas cada jogador ganhou;\n",
        "#Determinar quem foi o grande campeão de acordo com a quantidade de vitórias de cada um (computador e jogador);\n",
        "\n",
        "from random import randrange\n",
        "\n",
        "option = input(\"Deseja começar um jogo ('sim' ou 'não')? \")\n",
        "\n",
        "while option != \"não\":\n",
        "  rounds = int(input(\"Quantas rodadas desejas jogar? \"))\n",
        "  machineWin = 0\n",
        "  userWin = 0 \n",
        "  i = 0 \n",
        "\n",
        "  for i in range(rounds):\n",
        "    machinePick = randrange(0, 3)\n",
        "\n",
        "    if machinePick == 0:\n",
        "      machinePick = \"Pedra\"\n",
        "    elif machinePick == 1:\n",
        "      machinePick = \"Papel\"\n",
        "    elif machinePick == 2:\n",
        "      machinePick = \"Tesoura\"\n",
        "    \n",
        "    uPick = input(\"\\nPedra, Papel ou Tesoura? \")\n",
        "    userPick = uPick.capitalize()\n",
        "\n",
        "    if userPick == \"Pedra\" and machinePick == \"Papel\":\n",
        "      machineWin = machineWin + 1\n",
        "    elif userPick == \"Pedra\" and machinePick == \"Tesoura\":\n",
        "      userWin = userWin + 1\n",
        "    elif userPick == \"Papel\" and machinePick == \"Pedra\":\n",
        "      userWin = userWin + 1\n",
        "    elif userPick == \"Papel\" and machinePick == \"Tesoura\":\n",
        "      machineWin = machineWin + 1\n",
        "    elif userPick == \"Tesoura\" and machinePick == \"Pedra\":\n",
        "      machineWin = machineWin + 1\n",
        "    elif userPick == \"Tesoura\" and machinePick == \"Papel\":\n",
        "      userWin = userWin + 1\n",
        "\n",
        "    print(f\"A máquina fez {machinePick} e o usuário fez {userPick}.\")\n",
        "\n",
        "  print(f\"\\nA máquina ganhou {machineWin} de {rounds} rodadas e o usuário ganhou {userWin} de {rounds} rodadas.\\n\")\n",
        "    \n",
        "  if userWin > machineWin:\n",
        "    print(f\"O usuário VENCEU!!!\\n\")\n",
        "  elif machineWin > userWin:\n",
        "    print(f\"A máquina VENCEU!!!\\n\")\n",
        "  else:\n",
        "    print(\"EMPATE\\n\")\n",
        "\n",
        "  option = input(\"Deseja começar um jogo ('sim' ou 'não')? \")"
      ],
      "metadata": {
        "id": "7-dXDWg00f8I",
        "colab": {
          "base_uri": "https://localhost:8080/"
        },
        "outputId": "7ae52f75-5de7-4ced-8fff-762d409b8b5d"
      },
      "execution_count": null,
      "outputs": [
        {
          "name": "stdout",
          "output_type": "stream",
          "text": [
            "Deseja começar um jogo ('sim' ou 'não')? não\n"
          ]
        }
      ]
    },
    {
      "cell_type": "code",
      "source": [
        ""
      ],
      "metadata": {
        "id": "lInoBfPbsqpo"
      },
      "execution_count": null,
      "outputs": []
    }
  ]
}