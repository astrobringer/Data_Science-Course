{
  "nbformat": 4,
  "nbformat_minor": 0,
  "metadata": {
    "colab": {
      "name": "PraticasBlue.ipynb",
      "provenance": [],
      "authorship_tag": "ABX9TyM0/5+Mg7cLXg2FPHvFbzCn",
      "include_colab_link": true
    },
    "kernelspec": {
      "name": "python3",
      "display_name": "Python 3"
    },
    "language_info": {
      "name": "python"
    }
  },
  "cells": [
    {
      "cell_type": "markdown",
      "metadata": {
        "id": "view-in-github",
        "colab_type": "text"
      },
      "source": [
        "<a href=\"https://colab.research.google.com/github/astrobringer/Data_Science-Course/blob/main/PraticasBlue.ipynb\" target=\"_parent\"><img src=\"https://colab.research.google.com/assets/colab-badge.svg\" alt=\"Open In Colab\"/></a>"
      ]
    },
    {
      "cell_type": "code",
      "execution_count": null,
      "metadata": {
        "colab": {
          "base_uri": "https://localhost:8080/"
        },
        "id": "Pq7iz3jeVqck",
        "outputId": "38e08b2f-e1fe-4f05-cc7a-8bbe5419029e"
      },
      "outputs": [
        {
          "output_type": "stream",
          "name": "stdout",
          "text": [
            "Hello World\n"
          ]
        }
      ],
      "source": [
        "print(\"Hello World\")\n",
        "\n",
        "#Primeira situação: Se o ano for uma divisão exata em relação a 4, deveremos verificar, em seguida, se não é divisível por 100. Se não for, o ano será bissexto;**\n",
        "#Segunda situação: Se o ano não for divisível por 4, então deveremos verificar se ele é divisível por 400. Se também não for divisível, o ano de 2015 não será bissexto;\\\\\n",
        "#Terceira situação: Se o ano não for divisível por 4, então devemos verificar se ele é divisível por 400. Caso seja, o ano de 2015 é bissexto.\\\\\n"
      ]
    },
    {
      "cell_type": "code",
      "source": [
        "ano = int(input())\n",
        "\n",
        "if (ano%4 == 0 and ano%100 != 0):\n",
        "  print(f\"{ano} é bissexto.\\n\")\n",
        "\n",
        "elif (ano%4 != 0 and ano%400 != 0):\n",
        "  print(f\"{ano} não é bissexto.\\n\")\n",
        "\n",
        "elif (ano%4 != 0 and ano%400 == 0):\n",
        "  print(f\"{ano} é bissexto.\\n\")"
      ],
      "metadata": {
        "id": "OC8ilCoAWCYB",
        "colab": {
          "base_uri": "https://localhost:8080/"
        },
        "outputId": "ef4942f5-cafe-4662-d570-587af6854a91"
      },
      "execution_count": null,
      "outputs": [
        {
          "output_type": "stream",
          "name": "stdout",
          "text": [
            "2024\n",
            "2024 é bissexto.\n",
            "\n"
          ]
        }
      ]
    },
    {
      "cell_type": "code",
      "source": [
        "\"\"\"4 refrigerantes\n",
        "coca (r0): 10 reais, 5 unidades\n",
        "guarana (r1): 8 reais, 3 unidades\n",
        "fanta (r2): 7 reais, 2 unidades\n",
        "uva (r3): 5 reais, 0 unidades\n",
        "\n",
        "O usuário seleciona um refri\n",
        "\n",
        "Se estoque estiver zerado emite uma mensagem\n",
        "Se estiver no estoque\n",
        "pagamento (pode dar erro)\n",
        "desconta do estoque\n",
        "soma o valor no caixa\n",
        "libera o refri.\"\"\"\n",
        "\n",
        "import random\n",
        "\n",
        "choice = input()\n",
        "qtd = int(input())\n",
        "\n",
        "stock0 = 5\n",
        "price0 = 10\n",
        "\n",
        "error = random.randit(0,9)\n",
        "\n",
        "if choice == \"coca\":\n",
        "  if error != 0:\n",
        "     if qtd <= stock0:\n",
        "       priceT = price0 * qtd\n",
        "       stock0 = stock0 - qtd\n",
        "\n",
        "      elif qtd > stock0 and stock0 > 0:\n",
        "        print(f\"A quantidade em estoque são {stock0} unidades.\")\n",
        "\n",
        "      else:\n",
        "        print(f\"Sem estoque.\")\n"
      ],
      "metadata": {
        "id": "exaabkl3XEa7"
      },
      "execution_count": null,
      "outputs": []
    }
  ]
}