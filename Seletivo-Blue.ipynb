{
  "nbformat": 4,
  "nbformat_minor": 0,
  "metadata": {
    "colab": {
      "name": "Seletivo.ipynb",
      "provenance": [],
      "collapsed_sections": [],
      "authorship_tag": "ABX9TyP0S1wDslsHC2LtUsTX7Tm9",
      "include_colab_link": true
    },
    "kernelspec": {
      "name": "python3",
      "display_name": "Python 3"
    },
    "language_info": {
      "name": "python"
    }
  },
  "cells": [
    {
      "cell_type": "markdown",
      "metadata": {
        "id": "view-in-github",
        "colab_type": "text"
      },
      "source": [
        "<a href=\"https://colab.research.google.com/github/astrobringer/Data_Science-Course/blob/main/Seletivo-Blue.ipynb\" target=\"_parent\"><img src=\"https://colab.research.google.com/assets/colab-badge.svg\" alt=\"Open In Colab\"/></a>"
      ]
    },
    {
      "cell_type": "code",
      "execution_count": null,
      "metadata": {
        "colab": {
          "base_uri": "https://localhost:8080/"
        },
        "id": "MDxPXwN-7WUi",
        "outputId": "445a562f-dca4-4bd4-a1f5-e9bac006436c"
      },
      "outputs": [
        {
          "output_type": "stream",
          "name": "stdout",
          "text": [
            "Olá, Sidney Salvatore, você possui 80 anos de idade e prefere que te chamem de Sidão.\n"
          ]
        }
      ],
      "source": [
        "Nome = \"Sidney\"\n",
        "Sobrenome = \"Salvatore\"\n",
        "Apelido = \"Sidão\"\n",
        "Idade = 80\n",
        "\n",
        "print(f\"Olá, {Nome} {Sobrenome}, você possui {Idade} anos de idade e prefere que te chamem de {Apelido}.\")"
      ]
    },
    {
      "cell_type": "code",
      "source": [
        "rodadas = 8\n",
        "duracao = 7\n",
        "print(4*rodadas*duracao)"
      ],
      "metadata": {
        "colab": {
          "base_uri": "https://localhost:8080/"
        },
        "id": "o-JUkGic9OPF",
        "outputId": "712f510e-3fdf-471e-db1c-e99f1f2371a7"
      },
      "execution_count": null,
      "outputs": [
        {
          "output_type": "stream",
          "name": "stdout",
          "text": [
            "224\n"
          ]
        }
      ]
    },
    {
      "cell_type": "code",
      "source": [
        "import pandas as pd\n",
        "\n",
        "url = \"https://raw.githubusercontent.com/blue-edtech/Processo-Seletivo/main/PIB_por_Pais_1980-2026.csv\"\n",
        "\n",
        "df = pd.read_csv(url, sep=\";\", encoding=\"latin1\", thousands=\",\", decimal=\".\")\n",
        "\n",
        "print(df.head)\n",
        "\n",
        "print(df.nlargest(12, \"2010\")[[\"ISO\", \"Country\", \"2010\",\"2011\",\"2012\",\"2013\",\"2014\",\"2015\",\"2016\",\"2017\",\"2018\",\"2019\",\"2020\"]])\n",
        "\n",
        "print(df.nlargest(12, \"2020\")[[\"ISO\", \"Country\", \"2010\",\"2011\",\"2012\",\"2013\",\"2014\",\"2015\",\"2016\",\"2017\",\"2018\",\"2019\",\"2020\"]])\n",
        "\n",
        "ano1 = \"2019\"\n",
        "ano2 = \"2020\"\n",
        "\n",
        "convert1 = float(ano1)\n",
        "convert2 = float(ano2)\n",
        "\n",
        "sum1 = df[ano1].sum()\n",
        "sum2 = df[ano2].sum()\n",
        "\n",
        "if convert1>convert2:\n",
        "  res = sum1 - sum2;\n",
        "  if res>0:\n",
        "    print(f\"O PIB mundial de {convert1} foi de ${sum1}\")\n",
        "    print(f\"O PIB mundial de {convert2} foi de ${sum2}\")\n",
        "    print(f\"De {convert1} para {convert2}, o PIB aumentou ${res}\")\n",
        "  else:\n",
        "      print(f\"O PIB mundial de {convert1} foi de ${sum1}\")\n",
        "      print(f\"O PIB mundial de {convert2} foi de ${sum2}\")\n",
        "      print(f\"De {convert1} para {convert2}, o PIB diminuiu ${res}\")\n",
        "\n",
        "if convert2>convert1:\n",
        "  res = sum2 - sum1;\n",
        "  if res>0:\n",
        "    print(f\"O PIB mundial de {convert1} foi de ${sum1}\")\n",
        "    print(f\"O PIB mundial de {convert2} foi de ${sum2}\")\n",
        "    print(f\"De {convert2} para {convert1}, o PIB aumentou ${res}\")\n",
        "  else:\n",
        "      print(f\"O PIB mundial de {convert1} foi de ${sum1}\")\n",
        "      print(f\"O PIB mundial de {convert2} foi de ${sum2}\")\n",
        "      print(f\"De {convert2} para {convert1}, o PIB diminuiu ${res}\")"
      ],
      "metadata": {
        "colab": {
          "base_uri": "https://localhost:8080/"
        },
        "id": "GVVGYare-h7_",
        "outputId": "a3225d3c-a34f-41fc-d4f8-c93fe525d005"
      },
      "execution_count": null,
      "outputs": [
        {
          "output_type": "stream",
          "name": "stdout",
          "text": [
            "<bound method NDFrame.head of                                                    ISO  ... Estimates Start After\n",
            "0                                                  AFG  ...                2019.0\n",
            "1                                                  ALB  ...                2019.0\n",
            "2                                                  DZA  ...                2019.0\n",
            "3                                                  AGO  ...                2019.0\n",
            "4                                                  ATG  ...                2019.0\n",
            "..                                                 ...  ...                   ...\n",
            "192                                                YEM  ...                2019.0\n",
            "193                                                ZMB  ...                2019.0\n",
            "194                                                ZWE  ...                2019.0\n",
            "195                                                NaN  ...                   NaN\n",
            "196  International Monetary Fund, World Economic Ou...  ...                   NaN\n",
            "\n",
            "[197 rows x 54 columns]>\n",
            "     ISO         Country       2010  ...       2018       2019       2020\n",
            "185  USA   United States  14992.050  ...  20611.875  21433.225  20932.750\n",
            "35   CHN           China   6033.813  ...  13841.901  14340.600  14722.837\n",
            "84   JPN           Japan   5759.072  ...   5036.892   5148.781   5048.688\n",
            "63   DEU         Germany   3402.444  ...   3965.565   3861.550   3803.014\n",
            "59   FRA          France   2647.348  ...   2791.163   2717.204   2598.907\n",
            "184  GBR  United Kingdom   2484.017  ...   2860.982   2833.301   2710.970\n",
            "23   BRA          Brazil   2208.704  ...   1916.934   1877.114   1434.084\n",
            "82   ITA           Italy   2137.845  ...   2093.089   2005.135   1884.935\n",
            "76   IND           India   1708.460  ...   2701.112   2870.504   2708.770\n",
            "142  RUS          Russia   1633.111  ...   1653.006   1689.302   1473.583\n",
            "31   CAN          Canada   1617.345  ...   1721.822   1741.576   1643.408\n",
            "159  ESP           Spain   1423.270  ...   1422.799   1393.644   1278.208\n",
            "\n",
            "[12 rows x 13 columns]\n",
            "     ISO         Country       2010  ...       2018       2019       2020\n",
            "185  USA   United States  14992.050  ...  20611.875  21433.225  20932.750\n",
            "35   CHN           China   6033.813  ...  13841.901  14340.600  14722.837\n",
            "84   JPN           Japan   5759.072  ...   5036.892   5148.781   5048.688\n",
            "63   DEU         Germany   3402.444  ...   3965.565   3861.550   3803.014\n",
            "184  GBR  United Kingdom   2484.017  ...   2860.982   2833.301   2710.970\n",
            "76   IND           India   1708.460  ...   2701.112   2870.504   2708.770\n",
            "59   FRA          France   2647.348  ...   2791.163   2717.204   2598.907\n",
            "82   ITA           Italy   2137.845  ...   2093.089   2005.135   1884.935\n",
            "31   CAN          Canada   1617.345  ...   1721.822   1741.576   1643.408\n",
            "89   KOR           Korea   1143.568  ...   1725.373   1646.739   1630.871\n",
            "142  RUS          Russia   1633.111  ...   1653.006   1689.302   1473.583\n",
            "23   BRA          Brazil   2208.704  ...   1916.934   1877.114   1434.084\n",
            "\n",
            "[12 rows x 13 columns]\n",
            "O PIB mundial de 2019.0 foi de $87345.29999999999\n",
            "O PIB mundial de 2020.0 foi de $84537.68400000001\n",
            "De 2020.0 para 2019.0, o PIB diminuiu $-2807.61599999998\n"
          ]
        }
      ]
    }
  ]
}